{
 "cells": [
  {
   "cell_type": "markdown",
   "metadata": {},
   "source": [
    "# More rnn layers"
   ]
  },
  {
   "cell_type": "code",
   "execution_count": 1,
   "metadata": {},
   "outputs": [],
   "source": [
    "import numpy as np\n",
    "import pandas as pd\n",
    "from nltk.translate.bleu_score import sentence_bleu\n",
    "from scipy.spatial.distance import cosine\n",
    "from scipy.sparse import csr_matrix\n",
    "from detoxify import Detoxify\n",
    "from sentence_transformers import SentenceTransformer\n",
    "from sklearn.metrics.pairwise import cosine_similarity\n",
    "import matplotlib.pyplot as plt\n",
    "from collections import Counter\n",
    "from torch.utils.data import Dataset, DataLoader\n",
    "import torch\n",
    "import torch.nn as nn\n",
    "import nltk\n",
    "from tqdm import tqdm\n",
    "from torch.cuda.amp import GradScaler, autocast\n",
    "import os\n",
    "import string\n",
    "import gc"
   ]
  },
  {
   "cell_type": "code",
   "execution_count": 2,
   "metadata": {},
   "outputs": [],
   "source": [
    "from nltk.translate.bleu_score import SmoothingFunction\n",
    "\n",
    "chencherry = SmoothingFunction()"
   ]
  },
  {
   "cell_type": "code",
   "execution_count": 3,
   "metadata": {},
   "outputs": [
    {
     "name": "stderr",
     "output_type": "stream",
     "text": [
      "[nltk_data] Downloading package punkt to\n",
      "[nltk_data]     C:\\Users\\admin\\AppData\\Roaming\\nltk_data...\n",
      "[nltk_data]   Package punkt is already up-to-date!\n"
     ]
    },
    {
     "data": {
      "text/plain": [
       "20"
      ]
     },
     "execution_count": 3,
     "metadata": {},
     "output_type": "execute_result"
    }
   ],
   "source": [
    "nltk.download('punkt')\n",
    "\n",
    "torch.cuda.empty_cache()\n",
    "gc.collect()"
   ]
  },
  {
   "cell_type": "code",
   "execution_count": 4,
   "metadata": {},
   "outputs": [
    {
     "name": "stdout",
     "output_type": "stream",
     "text": [
      "True\n"
     ]
    }
   ],
   "source": [
    "print(torch.cuda.is_available())"
   ]
  },
  {
   "cell_type": "code",
   "execution_count": 5,
   "metadata": {},
   "outputs": [],
   "source": [
    "data_file_path = '../data/internal/data.csv'\n",
    "train_file_path = '../data/internal/train_data.csv'\n",
    "valid_file_path = '../data/internal/valid_data.csv'\n",
    "test_file_path = '../data/internal/test_data.csv'\n",
    "\n",
    "data = pd.read_csv(data_file_path)\n",
    "train_data = pd.read_csv(train_file_path)\n",
    "valid_data = pd.read_csv(valid_file_path)\n",
    "test_data = pd.read_csv(test_file_path)"
   ]
  },
  {
   "cell_type": "code",
   "execution_count": 6,
   "metadata": {},
   "outputs": [],
   "source": [
    "train_df = train_data.sample(n = 15000, random_state=1)\n",
    "valid_df = valid_data.sample(n = 1500, random_state=1)"
   ]
  },
  {
   "cell_type": "code",
   "execution_count": 7,
   "metadata": {},
   "outputs": [],
   "source": [
    "def remove_punctuation(text):\n",
    "    \"\"\"\n",
    "    Removes punctuation from text\n",
    "\n",
    "    :param text: text to remove punctuation from\n",
    "    :return: text without punctuation\n",
    "    \"\"\"\n",
    "    return text.translate(str.maketrans('', '', string.punctuation))"
   ]
  },
  {
   "cell_type": "code",
   "execution_count": 8,
   "metadata": {},
   "outputs": [],
   "source": [
    "train_df['reference'] = train_df['reference'].apply(remove_punctuation)\n",
    "train_df['translation'] = train_df['translation'].apply(remove_punctuation)\n",
    "\n",
    "valid_df['reference'] = valid_df['reference'].apply(remove_punctuation)\n",
    "valid_df['translation'] = valid_df['translation'].apply(remove_punctuation)"
   ]
  },
  {
   "cell_type": "code",
   "execution_count": 9,
   "metadata": {},
   "outputs": [
    {
     "data": {
      "text/html": [
       "<div>\n",
       "<style scoped>\n",
       "    .dataframe tbody tr th:only-of-type {\n",
       "        vertical-align: middle;\n",
       "    }\n",
       "\n",
       "    .dataframe tbody tr th {\n",
       "        vertical-align: top;\n",
       "    }\n",
       "\n",
       "    .dataframe thead th {\n",
       "        text-align: right;\n",
       "    }\n",
       "</style>\n",
       "<table border=\"1\" class=\"dataframe\">\n",
       "  <thead>\n",
       "    <tr style=\"text-align: right;\">\n",
       "      <th></th>\n",
       "      <th>id</th>\n",
       "      <th>reference</th>\n",
       "      <th>translation</th>\n",
       "      <th>similarity</th>\n",
       "      <th>lenght_diff</th>\n",
       "      <th>ref_tox</th>\n",
       "      <th>trn_tox</th>\n",
       "    </tr>\n",
       "  </thead>\n",
       "  <tbody>\n",
       "    <tr>\n",
       "      <th>92781</th>\n",
       "      <td>254295</td>\n",
       "      <td>this thing is dead</td>\n",
       "      <td>Thats dead</td>\n",
       "      <td>0.847450</td>\n",
       "      <td>0.350000</td>\n",
       "      <td>0.875859</td>\n",
       "      <td>0.003970</td>\n",
       "    </tr>\n",
       "    <tr>\n",
       "      <th>33273</th>\n",
       "      <td>146878</td>\n",
       "      <td>you shut up I wanna see it</td>\n",
       "      <td>You close your eyes I wanna see</td>\n",
       "      <td>0.653026</td>\n",
       "      <td>0.147059</td>\n",
       "      <td>0.998420</td>\n",
       "      <td>0.000834</td>\n",
       "    </tr>\n",
       "    <tr>\n",
       "      <th>22857</th>\n",
       "      <td>311558</td>\n",
       "      <td>I thought Id be fucked but Im not</td>\n",
       "      <td>I thought I was gonna be really upset but Im n...</td>\n",
       "      <td>0.660462</td>\n",
       "      <td>0.344828</td>\n",
       "      <td>0.996695</td>\n",
       "      <td>0.000051</td>\n",
       "    </tr>\n",
       "    <tr>\n",
       "      <th>18739</th>\n",
       "      <td>297481</td>\n",
       "      <td>resistance is useless so</td>\n",
       "      <td>Resistance is futile so</td>\n",
       "      <td>0.934338</td>\n",
       "      <td>0.034483</td>\n",
       "      <td>0.778996</td>\n",
       "      <td>0.000562</td>\n",
       "    </tr>\n",
       "    <tr>\n",
       "      <th>102410</th>\n",
       "      <td>325100</td>\n",
       "      <td>what the hell is going on</td>\n",
       "      <td>What the devils going on in here</td>\n",
       "      <td>0.787813</td>\n",
       "      <td>0.228571</td>\n",
       "      <td>0.900568</td>\n",
       "      <td>0.013883</td>\n",
       "    </tr>\n",
       "  </tbody>\n",
       "</table>\n",
       "</div>"
      ],
      "text/plain": [
       "            id                          reference  \\\n",
       "92781   254295                 this thing is dead   \n",
       "33273   146878         you shut up I wanna see it   \n",
       "22857   311558  I thought Id be fucked but Im not   \n",
       "18739   297481           resistance is useless so   \n",
       "102410  325100          what the hell is going on   \n",
       "\n",
       "                                              translation  similarity  \\\n",
       "92781                                          Thats dead    0.847450   \n",
       "33273                     You close your eyes I wanna see    0.653026   \n",
       "22857   I thought I was gonna be really upset but Im n...    0.660462   \n",
       "18739                            Resistance is futile so     0.934338   \n",
       "102410                   What the devils going on in here    0.787813   \n",
       "\n",
       "        lenght_diff   ref_tox   trn_tox  \n",
       "92781      0.350000  0.875859  0.003970  \n",
       "33273      0.147059  0.998420  0.000834  \n",
       "22857      0.344828  0.996695  0.000051  \n",
       "18739      0.034483  0.778996  0.000562  \n",
       "102410     0.228571  0.900568  0.013883  "
      ]
     },
     "execution_count": 9,
     "metadata": {},
     "output_type": "execute_result"
    }
   ],
   "source": [
    "train_df.head()"
   ]
  },
  {
   "cell_type": "code",
   "execution_count": 10,
   "metadata": {},
   "outputs": [],
   "source": [
    "# combined_texts = pd.concat([train_df['reference'], valid_df['reference'], test_df['reference']])"
   ]
  },
  {
   "cell_type": "markdown",
   "metadata": {},
   "source": [
    "##### Model part"
   ]
  },
  {
   "cell_type": "code",
   "execution_count": 11,
   "metadata": {},
   "outputs": [],
   "source": [
    "def nltk_tokenize(sentence):\n",
    "    \"\"\"\n",
    "    Tokenize a sentence using NLTK.\n",
    "\n",
    "    :param sentence: The sentence to tokenize.\n",
    "    :return: The tokenized sentence.\n",
    "    \"\"\"\n",
    "    return nltk.word_tokenize(sentence)"
   ]
  },
  {
   "cell_type": "code",
   "execution_count": 12,
   "metadata": {},
   "outputs": [],
   "source": [
    "def build_vocab(tokenized_texts):\n",
    "    \"\"\"\n",
    "    Build a vocabulary from a list of tokenized texts.\n",
    "\n",
    "    :param tokenized_texts: A list of tokenized texts.\n",
    "    :return: The vocabulary.\n",
    "    \"\"\"\n",
    "    counter = Counter()\n",
    "    for tokens in tokenized_texts:\n",
    "        counter.update(tokens)\n",
    "\n",
    "    vocab = {'<pad>': 0, '<unk>': 1}\n",
    "    for token, freq in counter.items():\n",
    "        vocab[token] = len(vocab)\n",
    "    return vocab"
   ]
  },
  {
   "cell_type": "code",
   "execution_count": 13,
   "metadata": {},
   "outputs": [],
   "source": [
    "def tokens_to_indices(tokenized_sentence, vocab):\n",
    "    \"\"\"\n",
    "    Convert a tokenized sentence to a list of indices using a vocabulary.\n",
    "\n",
    "    :param tokenized_sentence: The tokenized sentence.\n",
    "    :param vocab: The vocabulary.\n",
    "    :return: The list of indices.\n",
    "    \"\"\"\n",
    "    return [vocab.get(token, vocab['<unk>']) for token in tokenized_sentence]"
   ]
  },
  {
   "cell_type": "code",
   "execution_count": 14,
   "metadata": {},
   "outputs": [],
   "source": [
    "def pad_sequence(seq, max_length):\n",
    "    \"\"\"\n",
    "    Pad a sequence to a maximum length.\n",
    "\n",
    "    :param seq: The sequence to pad.\n",
    "    :param max_length: The maximum length.\n",
    "    :return: The padded sequence.\n",
    "    \"\"\"\n",
    "    seq += [vocab['<pad>']] * (max_length - len(seq))\n",
    "    return seq"
   ]
  },
  {
   "cell_type": "code",
   "execution_count": 15,
   "metadata": {},
   "outputs": [],
   "source": [
    "def indices_to_tokens(indices, vocab):\n",
    "    \"\"\"\n",
    "    Convert a list of indices to a list of tokens using a vocabulary.\n",
    "\n",
    "    :param indices: The list of indices.\n",
    "    :param vocab: The vocabulary.\n",
    "    :return: The list of tokens.\n",
    "    \"\"\"\n",
    "    inv_vocab = {index: token for token, index in vocab.items()}\n",
    "    return [inv_vocab.get(index, '<unk>') for index in indices]"
   ]
  },
  {
   "cell_type": "code",
   "execution_count": 16,
   "metadata": {},
   "outputs": [],
   "source": [
    "def indices_to_text(indices, vocab):\n",
    "    \"\"\"\n",
    "    Convert a list of indices to a text using a vocabulary.\n",
    "\n",
    "    :param indices: The list of indices.\n",
    "    :param vocab: The vocabulary.\n",
    "    :return: The text.\n",
    "    \"\"\"\n",
    "    index_to_word = {index: word for word, index in vocab.items()}\n",
    "    \n",
    "    return ' '.join(index_to_word.get(index, '<unk>') for index in indices if index != vocab['<pad>'])"
   ]
  },
  {
   "cell_type": "code",
   "execution_count": 17,
   "metadata": {},
   "outputs": [],
   "source": [
    "tokenized_texts = [nltk_tokenize(sentence) for sentence in train_df['reference']]\n",
    "vocab = build_vocab(tokenized_texts)\n",
    "max_length = max(len(tokens) for tokens in tokenized_texts)\n",
    "total_vocab_size = len(vocab)\n",
    "\n",
    "tokenized_val_texts = [nltk_tokenize(sentence) for sentence in valid_df['reference']]"
   ]
  },
  {
   "cell_type": "code",
   "execution_count": 18,
   "metadata": {},
   "outputs": [],
   "source": [
    "class TextDataset(Dataset):\n",
    "    def __init__(self, tokenized_texts, vocab, max_length):\n",
    "        self.tokenized_texts = tokenized_texts\n",
    "        self.vocab = vocab\n",
    "        self.max_length = max_length\n",
    "\n",
    "    def __len__(self):\n",
    "        return len(self.tokenized_texts)\n",
    "\n",
    "    def __getitem__(self, idx):\n",
    "        indices = tokens_to_indices(self.tokenized_texts[idx], self.vocab)\n",
    "        source = pad_sequence(indices, self.max_length)\n",
    "        target = pad_sequence(indices[1:], self.max_length)\n",
    "        return torch.tensor(source, dtype=torch.long), torch.tensor(target, dtype=torch.long)"
   ]
  },
  {
   "cell_type": "code",
   "execution_count": 19,
   "metadata": {},
   "outputs": [],
   "source": [
    "train_dataset = TextDataset(tokenized_texts, vocab, max_length)\n",
    "train_loader = DataLoader(train_dataset, batch_size=64, shuffle=True)"
   ]
  },
  {
   "cell_type": "code",
   "execution_count": 20,
   "metadata": {},
   "outputs": [],
   "source": [
    "val_dataset = TextDataset(tokenized_val_texts, vocab, max_length)\n",
    "val_loader = DataLoader(val_dataset, batch_size=64, shuffle=False) "
   ]
  },
  {
   "cell_type": "code",
   "execution_count": 21,
   "metadata": {},
   "outputs": [],
   "source": [
    "class Encoder(nn.Module):\n",
    "    def __init__(self, vocab_size, embed_size, hidden_size, num_layers, dropout_rate):\n",
    "        super(Encoder, self).__init__()\n",
    "        self.embedding = nn.Embedding(vocab_size, embed_size)\n",
    "        self.lstm = nn.LSTM(embed_size, hidden_size, num_layers=num_layers, \n",
    "                            batch_first=True, dropout=dropout_rate if num_layers > 1 else 0)\n",
    "\n",
    "    def forward(self, x):\n",
    "        embedded = self.embedding(x)\n",
    "        output, (hidden, cell) = self.lstm(embedded)\n",
    "        return hidden, cell\n",
    "\n",
    "class Decoder(nn.Module):\n",
    "    def __init__(self, vocab_size, embed_size, hidden_size, num_layers, dropout_rate):\n",
    "        super(Decoder, self).__init__()\n",
    "        self.embedding = nn.Embedding(vocab_size, embed_size)\n",
    "        self.lstm = nn.LSTM(embed_size, hidden_size, num_layers=num_layers, \n",
    "                            batch_first=True, dropout=dropout_rate if num_layers > 1 else 0)\n",
    "        self.dropout = nn.Dropout(dropout_rate)\n",
    "        self.fc = nn.Linear(hidden_size, vocab_size)\n",
    "\n",
    "    def forward(self, x, hidden, cell):\n",
    "        embedded = self.dropout(self.embedding(x))\n",
    "        output, (hidden, cell) = self.lstm(embedded, (hidden, cell))\n",
    "        prediction = self.fc(output)\n",
    "        return prediction, hidden, cell"
   ]
  },
  {
   "cell_type": "code",
   "execution_count": 22,
   "metadata": {},
   "outputs": [],
   "source": [
    "class Seq2Seq(nn.Module):\n",
    "    def __init__(self, encoder, decoder):\n",
    "        super(Seq2Seq, self).__init__()\n",
    "        self.encoder = encoder\n",
    "        self.decoder = decoder\n",
    "\n",
    "    def forward(self, source, target):\n",
    "        hidden, cell = self.encoder(source)\n",
    "        prediction, hidden, cell = self.decoder(target, hidden, cell)\n",
    "        return prediction"
   ]
  },
  {
   "cell_type": "code",
   "execution_count": 23,
   "metadata": {},
   "outputs": [],
   "source": [
    "device = torch.device(\"cuda\" if torch.cuda.is_available() else \"cpu\")"
   ]
  },
  {
   "cell_type": "code",
   "execution_count": 25,
   "metadata": {},
   "outputs": [],
   "source": [
    "dropout_rate = 0.5\n",
    "num_layers = 3\n",
    "\n",
    "encoder = Encoder(\n",
    "    vocab_size=total_vocab_size,\n",
    "    embed_size=128,\n",
    "    hidden_size=128,\n",
    "    num_layers=num_layers,\n",
    "    dropout_rate=dropout_rate\n",
    ").to(device)\n",
    "\n",
    "decoder = Decoder(\n",
    "    vocab_size=total_vocab_size,\n",
    "    embed_size=128,\n",
    "    hidden_size=128,\n",
    "    num_layers=num_layers,\n",
    "    dropout_rate=dropout_rate\n",
    ").to(device)\n",
    "\n",
    "seq2seq = Seq2Seq(encoder, decoder).to(device)"
   ]
  },
  {
   "cell_type": "code",
   "execution_count": 26,
   "metadata": {},
   "outputs": [],
   "source": [
    "loss_function = nn.CrossEntropyLoss(ignore_index=0)\n",
    "optimizer = torch.optim.Adam(seq2seq.parameters(), lr=1e-4)"
   ]
  },
  {
   "cell_type": "markdown",
   "metadata": {},
   "source": [
    "##### Custon metric"
   ]
  },
  {
   "cell_type": "code",
   "execution_count": 27,
   "metadata": {},
   "outputs": [],
   "source": [
    "toxicity_model = Detoxify('original')\n",
    "similarity_model = SentenceTransformer('all-MiniLM-L6-v2')"
   ]
  },
  {
   "cell_type": "code",
   "execution_count": 28,
   "metadata": {},
   "outputs": [],
   "source": [
    "def get_toxicity_scores(texts, toxicity_model):\n",
    "    \"\"\"\n",
    "    Get the toxicity scores for a batch of texts.\n",
    "    :param texts: The list of texts to get toxicity scores for.\n",
    "    :param toxicity_model: The pre-loaded toxicity model.\n",
    "    :return: The list of toxicity scores for the given texts.\n",
    "    \"\"\"\n",
    "    results = toxicity_model.predict(texts)\n",
    "    return results['toxicity']"
   ]
  },
  {
   "cell_type": "code",
   "execution_count": 29,
   "metadata": {},
   "outputs": [],
   "source": [
    "def calculate_batch_semantic_similarity(original_texts, detoxified_texts, similarity_model):\n",
    "    \"\"\"\n",
    "    Calculate the semantic similarity between batches of original texts and their detoxified versions.\n",
    "    :param original_texts: The list of original texts.\n",
    "    :param detoxified_texts: The list of detoxified texts.\n",
    "    :param similarity_model: The pre-loaded sentence similarity model.\n",
    "    :return: The list of semantic similarity scores between the two batches of texts.\n",
    "    \"\"\"\n",
    "    original_embeddings = similarity_model.encode(original_texts, convert_to_tensor=True)\n",
    "    detoxified_embeddings = similarity_model.encode(detoxified_texts, convert_to_tensor=True)\n",
    "    similarity_scores = cdist(original_embeddings.cpu().numpy(), detoxified_embeddings.cpu().numpy(), metric='cosine')\n",
    "    return 1 - similarity_scores.diagonal()"
   ]
  },
  {
   "cell_type": "code",
   "execution_count": 30,
   "metadata": {},
   "outputs": [],
   "source": [
    "def calculate_custom_metric(references, predictions, toxicity_model, similarity_model, device):\n",
    "    \"\"\"\n",
    "    Calculate the custom metric for a batch of references and predictions.\n",
    "\n",
    "    :param references: The list of references.\n",
    "    :param predictions: The list of predictions.\n",
    "    :param toxicity_model: The pre-loaded toxicity model.\n",
    "    :param similarity_model: The pre-loaded sentence similarity model.\n",
    "    :param device: The device to use.\n",
    "    :return: The list of custom metric scores for the given references and predictions.\n",
    "    \"\"\"\n",
    "    custom_scores = []\n",
    "    for ref, pred in tqdm(zip(references, predictions), total=len(references), desc=\"Calculating Metrics\", leave=False):\n",
    "        ref_lower = ref.lower()\n",
    "        pred_lower = pred.lower()\n",
    "\n",
    "        # BLEU score\n",
    "        bleu_score = sentence_bleu([ref_lower.split()], pred_lower.split(), smoothing_function=SmoothingFunction().method1)\n",
    "\n",
    "        # Get toxicity score for the predicted text\n",
    "        detoxified_toxicity = toxicity_model.predict([pred_lower])['toxicity'][0]\n",
    "\n",
    "        # Get embeddings for original and predicted texts\n",
    "        original_embedding = similarity_model.encode(ref_lower, convert_to_tensor=True).to(device)\n",
    "        detoxified_embedding = similarity_model.encode(pred_lower, convert_to_tensor=True).to(device)\n",
    "\n",
    "        # Ensure the embeddings are 1D tensors\n",
    "        original_embedding = original_embedding.squeeze()\n",
    "        detoxified_embedding = detoxified_embedding.squeeze()\n",
    "\n",
    "        # Compute cosine similarity\n",
    "        similarity = torch.nn.functional.cosine_similarity(original_embedding.unsqueeze(0), detoxified_embedding.unsqueeze(0))\n",
    "\n",
    "        # Custom score calculation\n",
    "        custom_score = bleu_score * (1 - abs(detoxified_toxicity)) * similarity.item()\n",
    "        custom_scores.append(custom_score)\n",
    "\n",
    "    return custom_scores"
   ]
  },
  {
   "cell_type": "markdown",
   "metadata": {},
   "source": [
    "##### Validation function"
   ]
  },
  {
   "cell_type": "code",
   "execution_count": 31,
   "metadata": {},
   "outputs": [],
   "source": [
    "def validate(model, val_loader, toxicity_model, similarity_model, device):\n",
    "    \"\"\"\n",
    "    Validate the model on a validation set.\n",
    "\n",
    "    :param model: The model to validate.\n",
    "    :param val_loader: The validation data loader.\n",
    "    :param toxicity_model: The pre-loaded toxicity model.\n",
    "    :param similarity_model: The pre-loaded sentence similarity model.\n",
    "    :param device: The device to run the similarity model on.\n",
    "    :return: The average custom score for the given model and validation data.\n",
    "    \"\"\"\n",
    "    model.eval()\n",
    "    custom_scores = []\n",
    "    references = []\n",
    "    predictions = []\n",
    "\n",
    "    with torch.no_grad():\n",
    "        for source, target in tqdm(val_loader, desc=\"Validating\", leave=False):\n",
    "            source, target = source.to(device), target.to(device)\n",
    "            output = model(source, target[:, :-1])\n",
    "            predicted_indices = output.argmax(-1)\n",
    "            pred_texts = [' '.join(indices_to_tokens(indices.cpu().numpy(), vocab)) for indices in predicted_indices]\n",
    "            ref_texts = [' '.join(indices_to_tokens(indices.cpu().numpy(), vocab)) for indices in target[:, 1:]]\n",
    "            predictions.extend(pred_texts)\n",
    "            references.extend(ref_texts)\n",
    "            \n",
    "    custom_scores = calculate_custom_metric(references, predictions, toxicity_model, similarity_model, device)\n",
    "    return np.mean(custom_scores)"
   ]
  },
  {
   "cell_type": "markdown",
   "metadata": {},
   "source": [
    "#### Training and validation loop"
   ]
  },
  {
   "cell_type": "code",
   "execution_count": 32,
   "metadata": {},
   "outputs": [
    {
     "name": "stderr",
     "output_type": "stream",
     "text": [
      "Epoch 1/5: 100%|██████████| 235/235 [03:14<00:00,  1.54batch/s, loss=2.25]"
     ]
    },
    {
     "name": "stdout",
     "output_type": "stream",
     "text": [
      "Checkpoint saved after epoch 1\n"
     ]
    },
    {
     "name": "stderr",
     "output_type": "stream",
     "text": [
      "Epoch 1/5: 100%|██████████| 235/235 [07:11<00:00,  1.54batch/s, loss=2.25]"
     ]
    },
    {
     "name": "stdout",
     "output_type": "stream",
     "text": [
      "Finished with score 9.669683673113766e-05\n"
     ]
    },
    {
     "name": "stderr",
     "output_type": "stream",
     "text": [
      "Epoch 1/5: 100%|██████████| 235/235 [07:11<00:00,  1.84s/batch, loss=2.25]\n",
      "Epoch 2/5: 100%|██████████| 235/235 [04:13<00:00,  1.26batch/s, loss=1.82]"
     ]
    },
    {
     "name": "stdout",
     "output_type": "stream",
     "text": [
      "Checkpoint saved after epoch 2\n"
     ]
    },
    {
     "name": "stderr",
     "output_type": "stream",
     "text": [
      "Epoch 2/5: 100%|██████████| 235/235 [08:03<00:00,  2.06s/batch, loss=1.82]"
     ]
    },
    {
     "name": "stdout",
     "output_type": "stream",
     "text": [
      "Finished with score 4.984691303307479e-05\n"
     ]
    },
    {
     "name": "stderr",
     "output_type": "stream",
     "text": [
      "\n",
      "Epoch 3/5: 100%|██████████| 235/235 [04:12<00:00,  1.24batch/s, loss=1.78]"
     ]
    },
    {
     "name": "stdout",
     "output_type": "stream",
     "text": [
      "Checkpoint saved after epoch 3\n"
     ]
    },
    {
     "name": "stderr",
     "output_type": "stream",
     "text": [
      "Epoch 3/5: 100%|██████████| 235/235 [07:58<00:00,  1.24batch/s, loss=1.78]"
     ]
    },
    {
     "name": "stdout",
     "output_type": "stream",
     "text": [
      "Finished with score 2.9602228363757685e-05\n"
     ]
    },
    {
     "name": "stderr",
     "output_type": "stream",
     "text": [
      "Epoch 3/5: 100%|██████████| 235/235 [07:59<00:00,  2.04s/batch, loss=1.78]\n",
      "Epoch 4/5: 100%|██████████| 235/235 [04:09<00:00,  1.17batch/s, loss=1.69]"
     ]
    },
    {
     "name": "stdout",
     "output_type": "stream",
     "text": [
      "Checkpoint saved after epoch 4\n"
     ]
    },
    {
     "name": "stderr",
     "output_type": "stream",
     "text": [
      "Epoch 4/5: 100%|██████████| 235/235 [08:14<00:00,  2.10s/batch, loss=1.69]"
     ]
    },
    {
     "name": "stdout",
     "output_type": "stream",
     "text": [
      "Finished with score 2.9602228363757685e-05\n"
     ]
    },
    {
     "name": "stderr",
     "output_type": "stream",
     "text": [
      "\n",
      "Epoch 5/5: 100%|██████████| 235/235 [04:17<00:00,  1.18batch/s, loss=1.68]"
     ]
    },
    {
     "name": "stdout",
     "output_type": "stream",
     "text": [
      "Checkpoint saved after epoch 5\n"
     ]
    },
    {
     "name": "stderr",
     "output_type": "stream",
     "text": [
      "Epoch 5/5: 100%|██████████| 235/235 [08:13<00:00,  1.18batch/s, loss=1.68]"
     ]
    },
    {
     "name": "stdout",
     "output_type": "stream",
     "text": [
      "Finished with score 7.833120735647453e-05\n"
     ]
    },
    {
     "name": "stderr",
     "output_type": "stream",
     "text": [
      "Epoch 5/5: 100%|██████████| 235/235 [08:13<00:00,  2.10s/batch, loss=1.68]\n"
     ]
    }
   ],
   "source": [
    "epochs = 5\n",
    "accumulation_steps = 4\n",
    "best_metric = float('-inf')\n",
    "\n",
    "for epoch in range(epochs):\n",
    "    with tqdm(total=len(train_loader), desc=f\"Epoch {epoch + 1}/{epochs}\", unit='batch') as pbar:\n",
    "        seq2seq.train()\n",
    "        \n",
    "        optimizer.zero_grad()\n",
    "        \n",
    "        for batch_idx, (source, target) in enumerate(train_loader):\n",
    "\n",
    "            seq2seq.train()\n",
    "\n",
    "            source, target = source.to(device), target.to(device)\n",
    "            \n",
    "            output = seq2seq(source, target[:, :-1])\n",
    "            loss = loss_function(output.permute(0, 2, 1), target[:, 1:])\n",
    "            loss = loss / accumulation_steps\n",
    "            \n",
    "            loss.backward()\n",
    "            \n",
    "            if (batch_idx + 1) % accumulation_steps == 0:\n",
    "                optimizer.step()\n",
    "                optimizer.zero_grad()\n",
    "            \n",
    "            pbar.set_postfix(loss=loss.item())\n",
    "            pbar.update(1)\n",
    "            \n",
    "            # Free up memory\n",
    "            if device.type == 'cuda':\n",
    "                torch.cuda.empty_cache()\n",
    "            \n",
    "            gc.collect()\n",
    "        \n",
    "        # End of epoch cleanup\n",
    "        checkpoint_path = os.path.join(\"../models/checkpoints/\", f\"model_3.2_epoch_{epoch+1}.pt\")\n",
    "        pbar.write(f\"Checkpoint saved after epoch {epoch+1}\")\n",
    "        \n",
    "        # Validate the model\n",
    "        seq2seq.eval()\n",
    "\n",
    "        val_metric = validate(seq2seq, val_loader, toxicity_model, similarity_model, device)\n",
    "        if val_metric > best_metric:\n",
    "            best_metric = val_metric\n",
    "            best_model_path = '../models/3.2-custom-embeddings.pt'\n",
    "            torch.save(seq2seq.state_dict(), best_model_path)\n",
    "        \n",
    "        pbar.write(f\"Finished with score {val_metric}\")\n",
    "        \n",
    "        # Cleanup at the end of the epoch\n",
    "        torch.cuda.empty_cache()\n",
    "        gc.collect()"
   ]
  },
  {
   "cell_type": "markdown",
   "metadata": {},
   "source": [
    "#### Training takes a lot of time even when training on the gpu (about 5-6 hour for 1 epoch) for all dataset (not sample)"
   ]
  },
  {
   "cell_type": "markdown",
   "metadata": {},
   "source": [
    "### Testing"
   ]
  },
  {
   "cell_type": "code",
   "execution_count": null,
   "metadata": {},
   "outputs": [],
   "source": [
    "# full_model = Seq2Seq(encoder, decoder).to(device)"
   ]
  },
  {
   "cell_type": "code",
   "execution_count": 33,
   "metadata": {},
   "outputs": [],
   "source": [
    "def sequence_processor(texts, max_len, tokenizer, vocab):\n",
    "    \"\"\"\n",
    "    Process a list of texts into padded sequences for PyTorch.\n",
    "    :param texts: The list of texts to process.\n",
    "    :param max_len: The maximum length of the sequences.\n",
    "    :param tokenizer: The tokenizer function to use.\n",
    "    :param vocab: The vocabulary to use for token to index conversion.\n",
    "    :return: A tensor of padded sequences.\n",
    "    \"\"\"\n",
    "    tokenized_texts = [tokenizer(text) for text in texts]\n",
    "    indexed_texts = [tokens_to_indices(t, vocab) for t in tokenized_texts]\n",
    "    padded_texts = [pad_sequence(t, max_len) for t in indexed_texts]\n",
    "    return torch.tensor(padded_texts, dtype=torch.long)"
   ]
  },
  {
   "cell_type": "code",
   "execution_count": 34,
   "metadata": {},
   "outputs": [
    {
     "data": {
      "text/html": [
       "<div>\n",
       "<style scoped>\n",
       "    .dataframe tbody tr th:only-of-type {\n",
       "        vertical-align: middle;\n",
       "    }\n",
       "\n",
       "    .dataframe tbody tr th {\n",
       "        vertical-align: top;\n",
       "    }\n",
       "\n",
       "    .dataframe thead th {\n",
       "        text-align: right;\n",
       "    }\n",
       "</style>\n",
       "<table border=\"1\" class=\"dataframe\">\n",
       "  <thead>\n",
       "    <tr style=\"text-align: right;\">\n",
       "      <th></th>\n",
       "      <th>id</th>\n",
       "      <th>reference</th>\n",
       "      <th>translation</th>\n",
       "      <th>similarity</th>\n",
       "      <th>lenght_diff</th>\n",
       "      <th>ref_tox</th>\n",
       "      <th>trn_tox</th>\n",
       "    </tr>\n",
       "  </thead>\n",
       "  <tbody>\n",
       "    <tr>\n",
       "      <th>0</th>\n",
       "      <td>289945</td>\n",
       "      <td>the curse of death is on him!</td>\n",
       "      <td>It's got a death curse!</td>\n",
       "      <td>0.845815</td>\n",
       "      <td>0.200000</td>\n",
       "      <td>0.876750</td>\n",
       "      <td>0.006088</td>\n",
       "    </tr>\n",
       "    <tr>\n",
       "      <th>1</th>\n",
       "      <td>480510</td>\n",
       "      <td>but then you'll know I'm gonna beat you up by ...</td>\n",
       "      <td>But then, you'll know deep down that I beat yo...</td>\n",
       "      <td>0.788745</td>\n",
       "      <td>0.085271</td>\n",
       "      <td>0.963052</td>\n",
       "      <td>0.000903</td>\n",
       "    </tr>\n",
       "    <tr>\n",
       "      <th>2</th>\n",
       "      <td>107858</td>\n",
       "      <td>Blondie, come out, 3 seconds, and you'll burn.</td>\n",
       "      <td>Blondie Come on out 3 seconds and you burn One...</td>\n",
       "      <td>0.799032</td>\n",
       "      <td>0.203390</td>\n",
       "      <td>0.992113</td>\n",
       "      <td>0.016989</td>\n",
       "    </tr>\n",
       "    <tr>\n",
       "      <th>3</th>\n",
       "      <td>39034</td>\n",
       "      <td>everyone knows if a woman starts poking her no...</td>\n",
       "      <td>Everyone knows when a bird starts poking her n...</td>\n",
       "      <td>0.862760</td>\n",
       "      <td>0.164948</td>\n",
       "      <td>0.706885</td>\n",
       "      <td>0.000631</td>\n",
       "    </tr>\n",
       "    <tr>\n",
       "      <th>4</th>\n",
       "      <td>140946</td>\n",
       "      <td>and your eyes, my God, have smoked my foetus.</td>\n",
       "      <td>And Your eyes, my God, they have seen me in th...</td>\n",
       "      <td>0.767273</td>\n",
       "      <td>0.148148</td>\n",
       "      <td>0.973932</td>\n",
       "      <td>0.000100</td>\n",
       "    </tr>\n",
       "  </tbody>\n",
       "</table>\n",
       "</div>"
      ],
      "text/plain": [
       "       id                                          reference  \\\n",
       "0  289945                      the curse of death is on him!   \n",
       "1  480510  but then you'll know I'm gonna beat you up by ...   \n",
       "2  107858     Blondie, come out, 3 seconds, and you'll burn.   \n",
       "3   39034  everyone knows if a woman starts poking her no...   \n",
       "4  140946      and your eyes, my God, have smoked my foetus.   \n",
       "\n",
       "                                         translation  similarity  lenght_diff  \\\n",
       "0                            It's got a death curse!    0.845815     0.200000   \n",
       "1  But then, you'll know deep down that I beat yo...    0.788745     0.085271   \n",
       "2  Blondie Come on out 3 seconds and you burn One...    0.799032     0.203390   \n",
       "3  Everyone knows when a bird starts poking her n...    0.862760     0.164948   \n",
       "4  And Your eyes, my God, they have seen me in th...    0.767273     0.148148   \n",
       "\n",
       "    ref_tox   trn_tox  \n",
       "0  0.876750  0.006088  \n",
       "1  0.963052  0.000903  \n",
       "2  0.992113  0.016989  \n",
       "3  0.706885  0.000631  \n",
       "4  0.973932  0.000100  "
      ]
     },
     "execution_count": 34,
     "metadata": {},
     "output_type": "execute_result"
    }
   ],
   "source": [
    "test_data.head()"
   ]
  },
  {
   "cell_type": "code",
   "execution_count": 35,
   "metadata": {},
   "outputs": [],
   "source": [
    "sample_test_data = test_data.sample(random_state=1, n=1000)"
   ]
  },
  {
   "cell_type": "code",
   "execution_count": 36,
   "metadata": {},
   "outputs": [
    {
     "data": {
      "text/plain": [
       "Seq2Seq(\n",
       "  (encoder): Encoder(\n",
       "    (embedding): Embedding(12113, 128)\n",
       "    (lstm): LSTM(128, 128, num_layers=3, batch_first=True, dropout=0.5)\n",
       "  )\n",
       "  (decoder): Decoder(\n",
       "    (embedding): Embedding(12113, 128)\n",
       "    (lstm): LSTM(128, 128, num_layers=3, batch_first=True, dropout=0.5)\n",
       "    (dropout): Dropout(p=0.5, inplace=False)\n",
       "    (fc): Linear(in_features=128, out_features=12113, bias=True)\n",
       "  )\n",
       ")"
      ]
     },
     "execution_count": 36,
     "metadata": {},
     "output_type": "execute_result"
    }
   ],
   "source": [
    "seq2seq.eval() "
   ]
  },
  {
   "cell_type": "code",
   "execution_count": 37,
   "metadata": {},
   "outputs": [],
   "source": [
    "test_texts = sample_test_data['reference'].tolist()\n",
    "test_seqs = sequence_processor(test_texts, max_length, nltk_tokenize, vocab)\n",
    "\n",
    "# Create a tensor for the second input with zeros\n",
    "test_seq_input_2 = torch.zeros_like(test_seqs)\n",
    "\n",
    "# Move the tensors to the correct device\n",
    "test_seqs, test_seq_input_2 = test_seqs.to(device), test_seq_input_2.to(device)"
   ]
  },
  {
   "cell_type": "code",
   "execution_count": 38,
   "metadata": {},
   "outputs": [],
   "source": [
    "with torch.no_grad():\n",
    "    predictions_seq = seq2seq(test_seqs, test_seq_input_2)"
   ]
  },
  {
   "cell_type": "code",
   "execution_count": 39,
   "metadata": {},
   "outputs": [],
   "source": [
    "predicted_indices = predictions_seq.argmax(dim=-1).cpu().numpy()"
   ]
  },
  {
   "cell_type": "code",
   "execution_count": 40,
   "metadata": {},
   "outputs": [],
   "source": [
    "def indices_to_text(indices, vocab):\n",
    "    \"\"\"\n",
    "    Convert a list of indices to a text using a vocabulary.\n",
    "\n",
    "    :param indices: The list of indices to convert.\n",
    "    :param vocab: The vocabulary mapping words to indices.\n",
    "    :return: The text.\n",
    "    \"\"\"\n",
    "    if isinstance(indices, torch.Tensor):\n",
    "        indices = indices.tolist()\n",
    "\n",
    "    index_to_word = {index: word for word, index in vocab.items()}\n",
    "    return ' '.join(index_to_word.get(index, '<unk>') for index in indices if index != vocab['<pad>'])"
   ]
  },
  {
   "cell_type": "code",
   "execution_count": 41,
   "metadata": {},
   "outputs": [],
   "source": [
    "predicted_texts = [indices_to_text(seq, vocab) for seq in predicted_indices]"
   ]
  },
  {
   "cell_type": "code",
   "execution_count": 42,
   "metadata": {},
   "outputs": [],
   "source": [
    "sample_test_data['predicted'] = predicted_texts"
   ]
  },
  {
   "cell_type": "code",
   "execution_count": 43,
   "metadata": {},
   "outputs": [
    {
     "data": {
      "text/html": [
       "<div>\n",
       "<style scoped>\n",
       "    .dataframe tbody tr th:only-of-type {\n",
       "        vertical-align: middle;\n",
       "    }\n",
       "\n",
       "    .dataframe tbody tr th {\n",
       "        vertical-align: top;\n",
       "    }\n",
       "\n",
       "    .dataframe thead th {\n",
       "        text-align: right;\n",
       "    }\n",
       "</style>\n",
       "<table border=\"1\" class=\"dataframe\">\n",
       "  <thead>\n",
       "    <tr style=\"text-align: right;\">\n",
       "      <th></th>\n",
       "      <th>id</th>\n",
       "      <th>reference</th>\n",
       "      <th>translation</th>\n",
       "      <th>similarity</th>\n",
       "      <th>lenght_diff</th>\n",
       "      <th>ref_tox</th>\n",
       "      <th>trn_tox</th>\n",
       "      <th>predicted</th>\n",
       "    </tr>\n",
       "  </thead>\n",
       "  <tbody>\n",
       "    <tr>\n",
       "      <th>3841</th>\n",
       "      <td>187371</td>\n",
       "      <td>\"a fool's mercy allowed me to escape.\"</td>\n",
       "      <td>\"A madman's mercy bade thee run away.\"</td>\n",
       "      <td>0.712329</td>\n",
       "      <td>0.000000</td>\n",
       "      <td>0.993162</td>\n",
       "      <td>0.003678</td>\n",
       "      <td>the the the the the the the the the the the th...</td>\n",
       "    </tr>\n",
       "    <tr>\n",
       "      <th>12898</th>\n",
       "      <td>201094</td>\n",
       "      <td>to invent crazy theories...... and look for me...</td>\n",
       "      <td>To keep us spinning wild theories and chasing ...</td>\n",
       "      <td>0.684736</td>\n",
       "      <td>0.091743</td>\n",
       "      <td>0.858899</td>\n",
       "      <td>0.000959</td>\n",
       "      <td>the the the the the the the the the the the th...</td>\n",
       "    </tr>\n",
       "    <tr>\n",
       "      <th>15032</th>\n",
       "      <td>575586</td>\n",
       "      <td>I'm afraid they're both dead.</td>\n",
       "      <td>Dead of their wounds, I'm afraid, both of them.</td>\n",
       "      <td>0.770305</td>\n",
       "      <td>0.375000</td>\n",
       "      <td>0.982602</td>\n",
       "      <td>0.003361</td>\n",
       "      <td>the the the the the the the the the the the th...</td>\n",
       "    </tr>\n",
       "    <tr>\n",
       "      <th>36781</th>\n",
       "      <td>210240</td>\n",
       "      <td>we get rid of criminals so they can't hurt peo...</td>\n",
       "      <td>We put bad guys away... ...where they can't hu...</td>\n",
       "      <td>0.692323</td>\n",
       "      <td>0.105263</td>\n",
       "      <td>0.955471</td>\n",
       "      <td>0.003611</td>\n",
       "      <td>the the the the the the the the the the the th...</td>\n",
       "    </tr>\n",
       "    <tr>\n",
       "      <th>9201</th>\n",
       "      <td>32007</td>\n",
       "      <td>my little girl came home and found your disgus...</td>\n",
       "      <td>My little girl has to come home and find your ...</td>\n",
       "      <td>0.928549</td>\n",
       "      <td>0.037975</td>\n",
       "      <td>0.713162</td>\n",
       "      <td>0.004013</td>\n",
       "      <td>the the the the the the the the the the the th...</td>\n",
       "    </tr>\n",
       "  </tbody>\n",
       "</table>\n",
       "</div>"
      ],
      "text/plain": [
       "           id                                          reference  \\\n",
       "3841   187371             \"a fool's mercy allowed me to escape.\"   \n",
       "12898  201094  to invent crazy theories...... and look for me...   \n",
       "15032  575586                      I'm afraid they're both dead.   \n",
       "36781  210240  we get rid of criminals so they can't hurt peo...   \n",
       "9201    32007  my little girl came home and found your disgus...   \n",
       "\n",
       "                                             translation  similarity  \\\n",
       "3841              \"A madman's mercy bade thee run away.\"    0.712329   \n",
       "12898  To keep us spinning wild theories and chasing ...    0.684736   \n",
       "15032    Dead of their wounds, I'm afraid, both of them.    0.770305   \n",
       "36781  We put bad guys away... ...where they can't hu...    0.692323   \n",
       "9201   My little girl has to come home and find your ...    0.928549   \n",
       "\n",
       "       lenght_diff   ref_tox   trn_tox  \\\n",
       "3841      0.000000  0.993162  0.003678   \n",
       "12898     0.091743  0.858899  0.000959   \n",
       "15032     0.375000  0.982602  0.003361   \n",
       "36781     0.105263  0.955471  0.003611   \n",
       "9201      0.037975  0.713162  0.004013   \n",
       "\n",
       "                                               predicted  \n",
       "3841   the the the the the the the the the the the th...  \n",
       "12898  the the the the the the the the the the the th...  \n",
       "15032  the the the the the the the the the the the th...  \n",
       "36781  the the the the the the the the the the the th...  \n",
       "9201   the the the the the the the the the the the th...  "
      ]
     },
     "execution_count": 43,
     "metadata": {},
     "output_type": "execute_result"
    }
   ],
   "source": [
    "sample_test_data.head()"
   ]
  },
  {
   "cell_type": "code",
   "execution_count": 44,
   "metadata": {},
   "outputs": [
    {
     "name": "stderr",
     "output_type": "stream",
     "text": [
      "                                                                        \r"
     ]
    }
   ],
   "source": [
    "custom_scores = calculate_custom_metric(\n",
    "    references=sample_test_data['reference'].tolist(),\n",
    "    predictions=sample_test_data['predicted'].tolist(),\n",
    "    toxicity_model=toxicity_model,\n",
    "    similarity_model=similarity_model,\n",
    "    device=device\n",
    ")"
   ]
  },
  {
   "cell_type": "code",
   "execution_count": 45,
   "metadata": {},
   "outputs": [],
   "source": [
    "sample_test_data['custom_score'] = custom_scores"
   ]
  },
  {
   "cell_type": "code",
   "execution_count": 46,
   "metadata": {},
   "outputs": [
    {
     "data": {
      "text/html": [
       "<div>\n",
       "<style scoped>\n",
       "    .dataframe tbody tr th:only-of-type {\n",
       "        vertical-align: middle;\n",
       "    }\n",
       "\n",
       "    .dataframe tbody tr th {\n",
       "        vertical-align: top;\n",
       "    }\n",
       "\n",
       "    .dataframe thead th {\n",
       "        text-align: right;\n",
       "    }\n",
       "</style>\n",
       "<table border=\"1\" class=\"dataframe\">\n",
       "  <thead>\n",
       "    <tr style=\"text-align: right;\">\n",
       "      <th></th>\n",
       "      <th>id</th>\n",
       "      <th>reference</th>\n",
       "      <th>translation</th>\n",
       "      <th>similarity</th>\n",
       "      <th>lenght_diff</th>\n",
       "      <th>ref_tox</th>\n",
       "      <th>trn_tox</th>\n",
       "      <th>predicted</th>\n",
       "      <th>custom_score</th>\n",
       "    </tr>\n",
       "  </thead>\n",
       "  <tbody>\n",
       "    <tr>\n",
       "      <th>3841</th>\n",
       "      <td>187371</td>\n",
       "      <td>\"a fool's mercy allowed me to escape.\"</td>\n",
       "      <td>\"A madman's mercy bade thee run away.\"</td>\n",
       "      <td>0.712329</td>\n",
       "      <td>0.000000</td>\n",
       "      <td>0.993162</td>\n",
       "      <td>0.003678</td>\n",
       "      <td>the the the the the the the the the the the th...</td>\n",
       "      <td>0.0</td>\n",
       "    </tr>\n",
       "    <tr>\n",
       "      <th>12898</th>\n",
       "      <td>201094</td>\n",
       "      <td>to invent crazy theories...... and look for me...</td>\n",
       "      <td>To keep us spinning wild theories and chasing ...</td>\n",
       "      <td>0.684736</td>\n",
       "      <td>0.091743</td>\n",
       "      <td>0.858899</td>\n",
       "      <td>0.000959</td>\n",
       "      <td>the the the the the the the the the the the th...</td>\n",
       "      <td>-0.0</td>\n",
       "    </tr>\n",
       "    <tr>\n",
       "      <th>15032</th>\n",
       "      <td>575586</td>\n",
       "      <td>I'm afraid they're both dead.</td>\n",
       "      <td>Dead of their wounds, I'm afraid, both of them.</td>\n",
       "      <td>0.770305</td>\n",
       "      <td>0.375000</td>\n",
       "      <td>0.982602</td>\n",
       "      <td>0.003361</td>\n",
       "      <td>the the the the the the the the the the the th...</td>\n",
       "      <td>0.0</td>\n",
       "    </tr>\n",
       "    <tr>\n",
       "      <th>36781</th>\n",
       "      <td>210240</td>\n",
       "      <td>we get rid of criminals so they can't hurt peo...</td>\n",
       "      <td>We put bad guys away... ...where they can't hu...</td>\n",
       "      <td>0.692323</td>\n",
       "      <td>0.105263</td>\n",
       "      <td>0.955471</td>\n",
       "      <td>0.003611</td>\n",
       "      <td>the the the the the the the the the the the th...</td>\n",
       "      <td>0.0</td>\n",
       "    </tr>\n",
       "    <tr>\n",
       "      <th>9201</th>\n",
       "      <td>32007</td>\n",
       "      <td>my little girl came home and found your disgus...</td>\n",
       "      <td>My little girl has to come home and find your ...</td>\n",
       "      <td>0.928549</td>\n",
       "      <td>0.037975</td>\n",
       "      <td>0.713162</td>\n",
       "      <td>0.004013</td>\n",
       "      <td>the the the the the the the the the the the th...</td>\n",
       "      <td>0.0</td>\n",
       "    </tr>\n",
       "  </tbody>\n",
       "</table>\n",
       "</div>"
      ],
      "text/plain": [
       "           id                                          reference  \\\n",
       "3841   187371             \"a fool's mercy allowed me to escape.\"   \n",
       "12898  201094  to invent crazy theories...... and look for me...   \n",
       "15032  575586                      I'm afraid they're both dead.   \n",
       "36781  210240  we get rid of criminals so they can't hurt peo...   \n",
       "9201    32007  my little girl came home and found your disgus...   \n",
       "\n",
       "                                             translation  similarity  \\\n",
       "3841              \"A madman's mercy bade thee run away.\"    0.712329   \n",
       "12898  To keep us spinning wild theories and chasing ...    0.684736   \n",
       "15032    Dead of their wounds, I'm afraid, both of them.    0.770305   \n",
       "36781  We put bad guys away... ...where they can't hu...    0.692323   \n",
       "9201   My little girl has to come home and find your ...    0.928549   \n",
       "\n",
       "       lenght_diff   ref_tox   trn_tox  \\\n",
       "3841      0.000000  0.993162  0.003678   \n",
       "12898     0.091743  0.858899  0.000959   \n",
       "15032     0.375000  0.982602  0.003361   \n",
       "36781     0.105263  0.955471  0.003611   \n",
       "9201      0.037975  0.713162  0.004013   \n",
       "\n",
       "                                               predicted  custom_score  \n",
       "3841   the the the the the the the the the the the th...           0.0  \n",
       "12898  the the the the the the the the the the the th...          -0.0  \n",
       "15032  the the the the the the the the the the the th...           0.0  \n",
       "36781  the the the the the the the the the the the th...           0.0  \n",
       "9201   the the the the the the the the the the the th...           0.0  "
      ]
     },
     "execution_count": 46,
     "metadata": {},
     "output_type": "execute_result"
    }
   ],
   "source": [
    "sample_test_data.head()"
   ]
  },
  {
   "cell_type": "code",
   "execution_count": 47,
   "metadata": {},
   "outputs": [
    {
     "data": {
      "image/png": "[encoded data removed]",
      "text/plain": [
       "<Figure size 1000x600 with 1 Axes>"
      ]
     },
     "metadata": {},
     "output_type": "display_data"
    }
   ],
   "source": [
    "# Plot the distribution of custom scores\n",
    "plt.figure(figsize=(10, 6))\n",
    "plt.hist(custom_scores, bins=50, alpha=0.7, color='blue')\n",
    "plt.title('Distribution of Custom Scores')\n",
    "plt.xlabel('Custom Score')\n",
    "plt.ylabel('Frequency')\n",
    "plt.grid(True)\n",
    "plt.show()"
   ]
  }
 ],
 "metadata": {
  "kernelspec": {
   "display_name": "torch-cuda",
   "language": "python",
   "name": "python3"
  },
  "language_info": {
   "codemirror_mode": {
    "name": "ipython",
    "version": 3
   },
   "file_extension": ".py",
   "mimetype": "text/x-python",
   "name": "python",
   "nbconvert_exporter": "python",
   "pygments_lexer": "ipython3",
   "version": "3.10.12"
  }
 },
 "nbformat": 4,
 "nbformat_minor": 2
}
